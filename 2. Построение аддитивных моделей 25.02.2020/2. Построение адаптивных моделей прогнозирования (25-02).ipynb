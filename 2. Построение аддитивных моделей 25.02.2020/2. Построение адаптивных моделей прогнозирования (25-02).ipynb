{
 "cells": [
  {
   "cell_type": "markdown",
   "metadata": {},
   "source": [
    "## Задание 1. Применение метода экспоненциального сглаживания"
   ]
  },
  {
   "cell_type": "markdown",
   "metadata": {},
   "source": [
    "В данном задании вам необходимо построить модель прогнозирования для временного ряда `pigs.csv`.\n",
    "\n",
    "<ol>\n",
    " \n",
    "  <li>Реализуйте функцию экспоненциального сглаживания, которая принимает на вход три параметра: `y`, `alpha` и `level` и возвращает прогноз на следующую точку. Здесь\n",
    "   <ul>\n",
    "          <li>`y` $-$ исходный временной ряд;</li>\n",
    "          <li>`alpha` $-$ значение параметра сглаживания $\\alpha$;</li>\n",
    "          <li>`level` $-$ начальное значение уровня $l_0$.</li>\n",
    "          <p></p>\n",
    "      </ul>\n",
    "      Получите прогноз с произвольным `alpha` и `level=y[0]`.\n",
    " </li>\n",
    " <p></p>\n",
    " \n",
    "  <li>Модифицируйте функцию таким образом, чтобы она возвращала не прогноз на следующую точку, а значение среднеквадратичной ошибки:</li>\n",
    "  <p></p>\n",
    "  $$MSE=\\frac{1}{T-1}\\sum_{t=2}^{T} (y_t-\\hat{y}_t)^{2}.$$\n",
    "  <p></p>\n",
    "<li>С помощью функции `scipy.optimize.minimize()` найдите такие параметры `alpha`, `level`, при которых MSE минимальна. Сравните полученное значение ошибки с MSE на параметрах из пункта 1.</li>\n",
    "\n",
    "</ol>"
   ]
  },
  {
   "cell_type": "code",
   "execution_count": null,
   "metadata": {
    "collapsed": true
   },
   "outputs": [],
   "source": []
  },
  {
   "cell_type": "code",
   "execution_count": null,
   "metadata": {
    "collapsed": true
   },
   "outputs": [],
   "source": []
  },
  {
   "cell_type": "code",
   "execution_count": null,
   "metadata": {
    "collapsed": true
   },
   "outputs": [],
   "source": []
  },
  {
   "cell_type": "markdown",
   "metadata": {},
   "source": [
    "## Задание 2. Построение модели Хольта-Уинтерса"
   ]
  },
  {
   "cell_type": "markdown",
   "metadata": {},
   "source": [
    "В модели Хольта-Уинтерса возможны два подхода в зависимости от характера поведения сезонной составляющей. Рассмотренный ранее  аддитивный метод применяется, когда сезонные колебания примерно постоянны по всему ряду. Аддитивный метод Хольта-Уинтерса:"
   ]
  },
  {
   "cell_type": "markdown",
   "metadata": {},
   "source": [
    "$$\\hat{y}_{t+h\\, |\\, t}=l_t+h\\, b_t+s_{t-m+h\\bmod m }\\, ,$$\n",
    "$$l_t=\\alpha\\, (y_t-s_{t-m})+(1-\\alpha)\\, (l_{t-1}+b_{t-1}),$$\n",
    "$$b_t=\\beta\\, (l_t-l_{t-1})+(1-\\beta)\\, b_{t-1},$$\n",
    "$$s_t=\\gamma\\, (y_t-l_{t-1}-b_{t-1})+(1-\\gamma)\\, s_{t-m}\\, .$$"
   ]
  },
  {
   "cell_type": "markdown",
   "metadata": {},
   "source": [
    "В случае, когда сезонные колебания изменяются пропорционально уровню ряда, говорят о мультипликативной сезонности. В данном случае мультипликативный метод Хольта-Уинтерса является более предпочтительным:"
   ]
  },
  {
   "cell_type": "markdown",
   "metadata": {},
   "source": [
    "$$\\hat{y}_{t+h\\, |\\, t}=(l_t+h\\, b_t)\\, s_{t-m+h\\bmod m }\\, ,$$\n",
    "$$l_t=\\alpha\\, \\frac{y_t}{s_{t-m}}+(1-\\alpha)\\, (l_{t-1}+b_{t-1}),$$\n",
    "$$b_t=\\beta\\, (l_t-l_{t-1})+(1-\\beta)\\, b_{t-1},$$\n",
    "$$s_t=\\gamma\\, \\frac{y_t}{l_{t-1}+b_{t-1}}+(1-\\gamma)\\, s_{t-m}\\, .$$"
   ]
  },
  {
   "cell_type": "markdown",
   "metadata": {},
   "source": [
    "При аддитивном методе сезонная компонента $s_t$ выражается в абсолютных величинах в масштабе наблюдаемого ряда, а в уравнении уровня ряд сезонно корректируется путем вычитания из него сезонной компоненты. При использовании же мультипликативного метода сезонная компонента выражается в относительных единицах, а ряд корректируется путем деления значений на сезонную компоненту."
   ]
  },
  {
   "cell_type": "markdown",
   "metadata": {},
   "source": [
    "В этом задании будем использовать данные о количестве ночей, проведенных иностранцами в гостинице Австралии `austourists.csv`.\n",
    "\n",
    "<ol>\n",
    " \n",
    "  <li>Реализуйте аддитивный метод Хольта-Уинтерса. Постройте прогноз на одну точку вперед при $\\alpha=0.306, \\beta=0.0003, \\gamma=0.426$. Оцените качество модели с помощью метрики RMSE:</li>\n",
    "$$RMSE=\\sqrt{\\frac{1}{T-4}\\sum_{t=5}^{T} (y_t-\\hat{y}_t)^{2}}.$$\n",
    " <p></p>\n",
    " <li>Реализуйте мультипликативный метод Хольта-Уинтерса. Постройте прогноз на одну точку вперед при $\\alpha=0.441, \\beta=0.03, \\gamma=0.002$. Сравните качество результатов с полученными с помощью аддитивной модели.</li>\n",
    "\n",
    "</ol>"
   ]
  },
  {
   "cell_type": "code",
   "execution_count": null,
   "metadata": {
    "collapsed": true
   },
   "outputs": [],
   "source": []
  },
  {
   "cell_type": "code",
   "execution_count": null,
   "metadata": {
    "collapsed": true
   },
   "outputs": [],
   "source": []
  },
  {
   "cell_type": "code",
   "execution_count": null,
   "metadata": {
    "collapsed": true
   },
   "outputs": [],
   "source": []
  }
 ],
 "metadata": {
  "kernelspec": {
   "display_name": "Python 3",
   "language": "python",
   "name": "python3"
  },
  "language_info": {
   "codemirror_mode": {
    "name": "ipython",
    "version": 3
   },
   "file_extension": ".py",
   "mimetype": "text/x-python",
   "name": "python",
   "nbconvert_exporter": "python",
   "pygments_lexer": "ipython3",
   "version": "3.7.1"
  }
 },
 "nbformat": 4,
 "nbformat_minor": 2
}
