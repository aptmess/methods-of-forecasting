{
 "cells": [
  {
   "cell_type": "code",
   "execution_count": null,
   "metadata": {},
   "outputs": [],
   "source": [
    "import numpy as np\n",
    "import pandas as pd\n",
    "\n",
    "import matplotlib.pyplot as plt\n",
    "%matplotlib inline"
   ]
  },
  {
   "cell_type": "markdown",
   "metadata": {},
   "source": [
    "# 1. Приведение ряда к стационарному"
   ]
  },
  {
   "cell_type": "markdown",
   "metadata": {},
   "source": [
    "Для начала рассмотрим временной ряд цен за дюжину яиц. Загрузим данные и отобразим их на графике. Можно сразу заметить наличие понижающегося тренда."
   ]
  },
  {
   "cell_type": "code",
   "execution_count": null,
   "metadata": {},
   "outputs": [],
   "source": [
    "eggs = pd.read_csv('price-of-a-dozen-eggs.csv', index_col='Year', parse_dates=['Year'])"
   ]
  },
  {
   "cell_type": "code",
   "execution_count": null,
   "metadata": {
    "scrolled": true
   },
   "outputs": [],
   "source": [
    "eggs.head()"
   ]
  },
  {
   "cell_type": "code",
   "execution_count": null,
   "metadata": {},
   "outputs": [],
   "source": [
    "eggs.plot(figsize=(12,6))\n",
    "plt.show()"
   ]
  },
  {
   "cell_type": "markdown",
   "metadata": {},
   "source": [
    "Для проверки стационарности ряда можно воспользоваться критерием Дики-Фуллера, реализация которого находится в модуле `statsmodels.tsa.stattools`."
   ]
  },
  {
   "cell_type": "code",
   "execution_count": null,
   "metadata": {},
   "outputs": [],
   "source": [
    "from statsmodels.tsa.stattools import adfuller"
   ]
  },
  {
   "cell_type": "markdown",
   "metadata": {},
   "source": [
    "Данная функция возвращает значение статистики $t$ Дики-Фуллера, p-value, а также значения $t_{крит}$ при заданных уровнях значимости $\\alpha$ $0.01, 0.05$ и $0.1$. Если p-value < 0.05, то гипотеза о стационарности ряда не отвергается."
   ]
  },
  {
   "cell_type": "code",
   "execution_count": null,
   "metadata": {},
   "outputs": [],
   "source": [
    "print(\"Критерий Дики-Фуллера: p=%f\" % adfuller(eggs['Price of a dozen eggs'])[1])"
   ]
  },
  {
   "cell_type": "markdown",
   "metadata": {},
   "source": [
    "Очевидно, из-за наличия в ряде тренда, ряд не является стационарным."
   ]
  },
  {
   "cell_type": "markdown",
   "metadata": {},
   "source": [
    "<div class=\"alert alert-info\">\n",
    "\n",
    "<h4> Задание 1. Выполнять в отдельном файле</h4>\n",
    "<p></p>\n",
    "<ol>\n",
    "<li>Попробуйте привести исходный ряд к стационарному путем вычитания из него тренда. Для этого можете воспользоваться функцией scipy.linalg.solve. В качестве значений $a$ выступают моменты времени $t=0,1,...,n$, где $n$ $-$ длина ряда, а в качестве $b$ $-$ значения ряда. Выражение $a \\times x$ будет описывать тренд.</li>\n",
    "    <p></p>\n",
    "<li>С помощью критерия Дики-Фуллера проверьте наличие единичных корней. Выведите график полученного ряда. Является ли полученный ряд стационарным?</li>\n",
    "    <p></p>\n",
    "<li>Продифференцируйте исходный ряд. Выведите p-value критерия Дики-Фуллера и постройте график полученного ряда. Какое преобразование является более предпочтительным и почему?</li>\n",
    "</ol>\n",
    "</div>\n",
    "\n",
    "<p></p>\n",
    "</div>"
   ]
  },
  {
   "cell_type": "markdown",
   "metadata": {},
   "source": [
    "# 2. Выбор гиперпараметров модели"
   ]
  },
  {
   "cell_type": "markdown",
   "metadata": {},
   "source": [
    "Построение модели ARIMA рассмотрим на примере данных об объемах пассажирских авиаперевозок."
   ]
  },
  {
   "cell_type": "code",
   "execution_count": null,
   "metadata": {},
   "outputs": [],
   "source": [
    "passengers = pd.read_csv('passengers.csv', index_col=0, parse_dates=True)"
   ]
  },
  {
   "cell_type": "code",
   "execution_count": null,
   "metadata": {},
   "outputs": [],
   "source": [
    "passengers.plot(figsize=(12,6))\n",
    "plt.show()"
   ]
  },
  {
   "cell_type": "markdown",
   "metadata": {},
   "source": [
    "Согласно теореме Вольда стационарный ряд можно описать моделью ARMA. Возникает вопрос: как определить порядок авторегрессии и порядок скользящего среднего? Для начала исходный ряд приводят к стационарному. После чего для определения порядка скользящего среднего прибегают к анализу коррелограммы полученного ряда."
   ]
  },
  {
   "cell_type": "code",
   "execution_count": null,
   "metadata": {},
   "outputs": [],
   "source": [
    "from scipy.stats import boxcox"
   ]
  },
  {
   "cell_type": "code",
   "execution_count": null,
   "metadata": {},
   "outputs": [],
   "source": [
    "passengers_transformed, lmbda = boxcox(passengers['num_passengers'])\n",
    "y_transformation = pd.DataFrame(passengers['num_passengers'].values, columns=['initial'])\n",
    "y_transformation['transformed'] = passengers_transformed\n",
    "y_transformation['seasonal_diff'] = y_transformation['transformed'].diff(12)\n",
    "y_transformation['lag1_diff'] = y_transformation['seasonal_diff'].diff(1)"
   ]
  },
  {
   "cell_type": "code",
   "execution_count": null,
   "metadata": {},
   "outputs": [],
   "source": [
    "print(\"Критерий Дики-Фуллера для исходного ряда: p=%f\" % adfuller(y_transformation['initial'])[1])\n",
    "print(\"После преобразования Бокса-Кокса: p=%f\" % adfuller(y_transformation['transformed'])[1])\n",
    "print(\"После сезонного дифференцирования: p=%f\" % adfuller(y_transformation['seasonal_diff'].dropna())[1])\n",
    "print(\"После дополнительного дифференцирования: p=%f\" % adfuller(y_transformation['lag1_diff'].dropna())[1])"
   ]
  },
  {
   "cell_type": "markdown",
   "metadata": {},
   "source": [
    "Рассмотрим коррелограмму полученного ряда."
   ]
  },
  {
   "cell_type": "code",
   "execution_count": null,
   "metadata": {},
   "outputs": [],
   "source": [
    "from statsmodels.graphics.tsaplots import plot_acf"
   ]
  },
  {
   "cell_type": "code",
   "execution_count": null,
   "metadata": {},
   "outputs": [],
   "source": [
    "plt.rcParams['figure.figsize'] = (12,6)\n",
    "plot_acf(y_transformation['lag1_diff'].dropna(), lags=48)\n",
    "plt.xticks(np.arange(0, 50, 2))\n",
    "plt.show()"
   ]
  },
  {
   "cell_type": "markdown",
   "metadata": {},
   "source": [
    "В качестве начального приближения гиперпараметра $q$ берется последний значимый лаг автокорреляции. Для примера выше последний значимый лаг равен 1. При лаге равном 2 значение автокорреляции попадает внутрь голубого \"коридора\", поэтому дальнейшие значения автокорреляции не рассматриваются. Итак, $q_0=1$."
   ]
  },
  {
   "cell_type": "markdown",
   "metadata": {},
   "source": [
    "**Замечание по терминологии**: гиперпараметрами модели называют те параметры, которые задаются пользователем. Параметрами же называют подобранные путем минимизации функционала качества моделью коэффициенты. Функционалом качества может выступать, например, среднеквадратичная ошибка.\n",
    "\n",
    "Т.е. когда речь идет о модели $ARIMA(p,d,q)$, гиперпараметрами являются $p$, $d$ и $q$, которые задаются вручную. Параметрами при этом являются коэффициенты $\\alpha$, $\\phi$ и $\\theta$."
   ]
  },
  {
   "cell_type": "markdown",
   "metadata": {},
   "source": [
    "Для выбора начального приближения порядка авторегрессии $p$ прибегают к аналогичному методу, но рассматривают частичную автокорреляцию. Частичная автокорреляция $-$ это автокорреляция после снятия авторегрессии предыдущего порядка. Для определения значения частичной автокорреляции с лагом 2 необходимо построить авторегрессию порядка 1 ($AR(1)$), вычесть эту авторегрессию из ряда и вычислить автокорреляцию на полученных остатках, т.е.:"
   ]
  },
  {
   "cell_type": "markdown",
   "metadata": {},
   "source": [
    "$$\\phi_{hh}=\\begin{cases} r(y_{t+1},y_t), & h=1, \\\\ \n",
    "r(y_{t+h}-y_{t+h}^{h-1},y_t-y_t^{h-1}), & h\\ge1, \\end{cases}$$"
   ]
  },
  {
   "cell_type": "markdown",
   "metadata": {},
   "source": [
    "где $y_t^{h-1} -$ авторегрессии следующего вида:\n",
    "$$y_t^{h-1}=\\beta_1 y_{t+1}+\\beta_2 y_{t+2}+...+\\beta_{h-1} y_{t+h-1},$$\n",
    "$$y_{t+h}^{h-1}=\\beta_1 y_{t+h-1}+\\beta_2 y_{t+h-2}+...+\\beta_{h-1} y_{t+1}.$$"
   ]
  },
  {
   "cell_type": "markdown",
   "metadata": {},
   "source": [
    "<div class=\"alert alert-warning\">\n",
    "\n",
    "<h4> Задание 2. Для обсуждения на форуме</h4>\n",
    "<p></p>\n",
    "Подумать, почему именно частичная автокорреляция отвечает за порядок авторегрессии, а автокорреляция $-$ за порядок скользящего среднего. Просьба создать обсуждение данного вопроса на de.unecon.\n",
    "</div>"
   ]
  },
  {
   "cell_type": "markdown",
   "metadata": {},
   "source": [
    "<div class=\"alert alert-info\">\n",
    "\n",
    "<h4> Задание 3. Реализация модели AR</h4>\n",
    "<p></p>\n",
    "Для полученного стационарного ряда объемов пассажирских авиаперевозок вычислить значение частичной автокорреляции с лагом 3. Для этого необходимо реализовать модель авторегрессии (самостоятельно, без применения средств statsmodels).\n",
    "\n",
    "<p></p>\n",
    "</div>"
   ]
  },
  {
   "cell_type": "markdown",
   "metadata": {},
   "source": [
    "Для построения графика частичной автокорреляции служит функция `plot_pacf`, которая находится в том же модуле `statsmodels.graphics.tsaplots`."
   ]
  },
  {
   "cell_type": "code",
   "execution_count": null,
   "metadata": {},
   "outputs": [],
   "source": [
    "from statsmodels.graphics.tsaplots import plot_pacf"
   ]
  },
  {
   "cell_type": "code",
   "execution_count": null,
   "metadata": {},
   "outputs": [],
   "source": [
    "plt.rcParams['figure.figsize'] = (12,6)\n",
    "plot_pacf(y_transformation['lag1_diff'].dropna(), lags=48)\n",
    "plt.xticks(np.arange(0, 50, 2))\n",
    "plt.show()"
   ]
  },
  {
   "cell_type": "markdown",
   "metadata": {},
   "source": [
    "Последний значимый лаг также равен 1, соответственно, $p_0=1$. Для выбора оптимальных значений гиперпараметров $p$ и $q$ необходимо построить соответствующие модели авторегрессии и оценить их качество. Поскольку вариантов достаточно много, обычно рассматриваются гиперпараметры в окрестности начального приближения  $p_0$, $q_0$."
   ]
  },
  {
   "cell_type": "code",
   "execution_count": null,
   "metadata": {},
   "outputs": [],
   "source": [
    "p = range(0, 3)\n",
    "q = range(0, 3)\n",
    "d = 1"
   ]
  },
  {
   "cell_type": "code",
   "execution_count": null,
   "metadata": {},
   "outputs": [],
   "source": [
    "from itertools import product"
   ]
  },
  {
   "cell_type": "code",
   "execution_count": null,
   "metadata": {},
   "outputs": [],
   "source": [
    "parameters = product(p, q)\n",
    "parameters_list = list(parameters)"
   ]
  },
  {
   "cell_type": "code",
   "execution_count": null,
   "metadata": {},
   "outputs": [],
   "source": [
    "parameters_list"
   ]
  },
  {
   "cell_type": "markdown",
   "metadata": {},
   "source": [
    "Получили 9 возможных наборов гиперпараметров. Гиперпараметры модели нельзя выбирать методом максимального правдоподобия, поскольку с увеличением количества параметров значение функции правдоподобия $L$ растет. \n",
    "\n",
    "Поэтому для сравнения различных моделей применяется информационный критерий Акаике:"
   ]
  },
  {
   "cell_type": "markdown",
   "metadata": {},
   "source": [
    "$$AIC=-2L+2k,$$\n",
    "где $k$ $-$ число параметров модели. Чем меньше значение данного критерия, тем лучше."
   ]
  },
  {
   "cell_type": "markdown",
   "metadata": {},
   "source": [
    "# 3. Построение модели ARIMA"
   ]
  },
  {
   "cell_type": "markdown",
   "metadata": {},
   "source": [
    "Модель ARIMA можно найти в модуле `statsmodels.tsa.arima_model`. Процесс обучения модели (настройки параметров модели) аналогичен процессу обучения адаптивных методов."
   ]
  },
  {
   "cell_type": "code",
   "execution_count": null,
   "metadata": {},
   "outputs": [],
   "source": [
    "from statsmodels.tsa.arima_model import ARIMA"
   ]
  },
  {
   "cell_type": "markdown",
   "metadata": {},
   "source": [
    "Обучим модель `ARIMA(1,1,1)`. В качестве первого аргумента функции `ARIMA` необходимо передать временной ряд. Чтобы определить порядки авторегрессии, дифференцирования и скользящего среднего необходимо передать их в виде кортежа в аргумент `order`. В данном случае передадим временной ряд, полученный после сезонного дифференцирования, поскольку обычное дифференцирование функция произведет самостоятельно."
   ]
  },
  {
   "cell_type": "code",
   "execution_count": null,
   "metadata": {},
   "outputs": [],
   "source": [
    "model = ARIMA(y_transformation['seasonal_diff'].dropna().values, order=(1, 1, 1)).fit()"
   ]
  },
  {
   "cell_type": "markdown",
   "metadata": {},
   "source": [
    "Значение критерия Акаике:"
   ]
  },
  {
   "cell_type": "code",
   "execution_count": null,
   "metadata": {},
   "outputs": [],
   "source": [
    "model.aic"
   ]
  },
  {
   "cell_type": "markdown",
   "metadata": {},
   "source": [
    "<div class=\"alert alert-info\">\n",
    "\n",
    "<h4> Задание 4</h4>\n",
    "<p></p>\n",
    "<ol>\n",
    "<li>Среди ранее полученных наборов гиперпараметров (parameters_list) найдите тот, для которого критерий Акаике минимален.</li>\n",
    "    <p></p>\n",
    "<li>С помощью функции predict (именно predict!) получите прогноз на 12 точек вперед.</li>\n",
    "    <p></p>\n",
    "<li>Выполните обратные преобразования, чтобы получить прогноз для исходного ряда. Отобразите исходный ряд и прогноз на графике.</li>\n",
    "</ol>\n",
    "</div>\n",
    "\n",
    "<p></p>\n",
    "</div>"
   ]
  }
 ],
 "metadata": {
  "kernelspec": {
   "display_name": "Python 3",
   "language": "python",
   "name": "python3"
  },
  "language_info": {
   "codemirror_mode": {
    "name": "ipython",
    "version": 3
   },
   "file_extension": ".py",
   "mimetype": "text/x-python",
   "name": "python",
   "nbconvert_exporter": "python",
   "pygments_lexer": "ipython3",
   "version": "3.7.4"
  }
 },
 "nbformat": 4,
 "nbformat_minor": 2
}
